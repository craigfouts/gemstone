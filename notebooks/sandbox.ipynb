{
 "cells": [
  {
   "cell_type": "code",
   "execution_count": 1,
   "metadata": {},
   "outputs": [],
   "source": [
    "import numpy as np\n",
    "import sys\n",
    "\n",
    "sys.path.append('../')\n",
    "import gemstone as gs"
   ]
  },
  {
   "cell_type": "code",
   "execution_count": null,
   "metadata": {},
   "outputs": [],
   "source": [
    "from sklearn.datasets import make_classification\n",
    "\n",
    "def make_features(n_components=2, n_features=10, n_redundant=0, n_repeated=0, mean_scale=1., variance_scale=1.):\n",
    "    n_informative = n_features - n_redundant - n_repeated\n",
    "    means, _ = make_classification(n_components, n_features, n_informative=n_informative, n_redundant=n_redundant, n_repeated=n_repeated, n_classes=n_components, n_clusters_per_class=1, scale=mean_scale)\n",
    "    variances = variance_scale*np.random.rand(n_features)\n",
    "\n",
    "    return means, variances\n",
    "\n",
    "def make_components(n_samples, n_components, n_features, n_redundant=0, n_repeated=0, mean_scale=1., variance_scale=1., bins=None):\n",
    "    if bins is None:\n",
    "        pass\n",
    "\n",
    "# def make(blocks, )"
   ]
  },
  {
   "cell_type": "code",
   "execution_count": 6,
   "metadata": {},
   "outputs": [
    {
     "data": {
      "text/plain": [
       "(array([[-0.19945363,  0.48598009, -0.64642904,  0.44217065,  0.71378866,\n",
       "          1.25973682,  3.52251204, -0.98101245,  0.70521013,  2.19397689],\n",
       "        [ 1.67801529,  1.79026681,  1.71087368, -0.69775979,  2.16545177,\n",
       "          0.9877926 ,  0.76377061, -3.57194736,  2.15993282, -1.07560476]]),\n",
       " array([0.82696526, 0.26814194, 0.27058473, 0.13082227, 0.17010357,\n",
       "        0.5562291 , 0.28049549, 0.48177071, 0.59565585, 0.99045787]))"
      ]
     },
     "execution_count": 6,
     "metadata": {},
     "output_type": "execute_result"
    }
   ],
   "source": [
    "make_features(2, 10)"
   ]
  },
  {
   "cell_type": "code",
   "execution_count": 2,
   "metadata": {},
   "outputs": [
    {
     "name": "stdout",
     "output_type": "stream",
     "text": [
      "[[0 0]\n",
      " [1 1]]\n"
     ]
    }
   ],
   "source": [
    "gs.test()"
   ]
  },
  {
   "cell_type": "code",
   "execution_count": null,
   "metadata": {},
   "outputs": [],
   "source": []
  }
 ],
 "metadata": {
  "kernelspec": {
   "display_name": "env",
   "language": "python",
   "name": "python3"
  },
  "language_info": {
   "codemirror_mode": {
    "name": "ipython",
    "version": 3
   },
   "file_extension": ".py",
   "mimetype": "text/x-python",
   "name": "python",
   "nbconvert_exporter": "python",
   "pygments_lexer": "ipython3",
   "version": "3.9.6"
  }
 },
 "nbformat": 4,
 "nbformat_minor": 2
}
